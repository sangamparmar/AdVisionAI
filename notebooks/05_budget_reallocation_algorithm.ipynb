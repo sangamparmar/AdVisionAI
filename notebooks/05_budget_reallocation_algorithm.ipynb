{
 "cells": [
  {
   "cell_type": "code",
   "execution_count": 1,
   "metadata": {},
   "outputs": [
    {
     "name": "stdout",
     "output_type": "stream",
     "text": [
      "Reallocated Budgets:\n",
      "{'google': 10000.0, 'meta': 10000.0, 'email': 10000.0, 'direct': 10000.0}\n"
     ]
    },
    {
     "name": "stderr",
     "output_type": "stream",
     "text": [
      "C:\\Users\\sanga\\AppData\\Local\\Programs\\Python\\Python312\\Lib\\site-packages\\sklearn\\base.py:493: UserWarning: X does not have valid feature names, but LinearRegression was fitted with feature names\n",
      "  warnings.warn(\n",
      "C:\\Users\\sanga\\AppData\\Local\\Programs\\Python\\Python312\\Lib\\site-packages\\sklearn\\base.py:493: UserWarning: X does not have valid feature names, but LinearRegression was fitted with feature names\n",
      "  warnings.warn(\n",
      "C:\\Users\\sanga\\AppData\\Local\\Programs\\Python\\Python312\\Lib\\site-packages\\sklearn\\base.py:493: UserWarning: X does not have valid feature names, but LinearRegression was fitted with feature names\n",
      "  warnings.warn(\n",
      "C:\\Users\\sanga\\AppData\\Local\\Programs\\Python\\Python312\\Lib\\site-packages\\sklearn\\base.py:493: UserWarning: X does not have valid feature names, but LinearRegression was fitted with feature names\n",
      "  warnings.warn(\n"
     ]
    }
   ],
   "source": [
    "import pandas as pd\n",
    "from sklearn.linear_model import LinearRegression\n",
    "\n",
    "# Load data\n",
    "ad_spend_data = pd.read_csv('../data/ad_spend.csv')\n",
    "\n",
    "# Prepare data for model\n",
    "X = ad_spend_data[['impressions', 'clicks']]\n",
    "y = ad_spend_data['conversions']\n",
    "\n",
    "# Train model\n",
    "model = LinearRegression()\n",
    "model.fit(X, y)\n",
    "\n",
    "# Budget reallocation logic\n",
    "total_budget = 100000\n",
    "channels = ad_spend_data['channel'].unique()\n",
    "\n",
    "channel_budgets = {}\n",
    "for channel in channels:\n",
    "    channel_data = ad_spend_data[ad_spend_data['channel'] == channel]\n",
    "    predicted_conversion = model.predict(channel_data[['impressions', 'clicks']].mean().values.reshape(1, -1))[0]\n",
    "    allocated_budget = max(0.1 * total_budget, predicted_conversion)\n",
    "    channel_budgets[channel] = allocated_budget\n",
    "\n",
    "print(\"Reallocated Budgets:\")\n",
    "print(channel_budgets)\n"
   ]
  },
  {
   "cell_type": "code",
   "execution_count": null,
   "metadata": {},
   "outputs": [],
   "source": []
  }
 ],
 "metadata": {
  "kernelspec": {
   "display_name": "Python 3 (ipykernel)",
   "language": "python",
   "name": "python3"
  },
  "language_info": {
   "codemirror_mode": {
    "name": "ipython",
    "version": 3
   },
   "file_extension": ".py",
   "mimetype": "text/x-python",
   "name": "python",
   "nbconvert_exporter": "python",
   "pygments_lexer": "ipython3",
   "version": "3.12.4"
  }
 },
 "nbformat": 4,
 "nbformat_minor": 4
}

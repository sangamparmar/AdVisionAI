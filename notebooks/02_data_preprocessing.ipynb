{
 "cells": [
  {
   "cell_type": "code",
   "execution_count": 1,
   "metadata": {},
   "outputs": [
    {
     "name": "stdout",
     "output_type": "stream",
     "text": [
      "Preprocessed Customer Data:\n",
      "   customer_id channel_source ad_campaign_type           timestamp  \\\n",
      "0            1    google-paid           search 2023-01-01 12:00:00   \n",
      "1            1          email       newsletter 2023-01-02 08:00:00   \n",
      "2            2      paid-meta          display 2023-01-01 15:00:00   \n",
      "3            2         direct           direct 2023-01-03 09:00:00   \n",
      "\n",
      "  touchpoint_type  visit_duration  \n",
      "0         landing 0 days 00:00:00  \n",
      "1        purchase 0 days 20:00:00  \n",
      "2         landing 0 days 00:00:00  \n",
      "3        purchase 1 days 18:00:00  \n",
      "Preprocessed Ad Spend Data:\n",
      "         date channel campaign_type  amount_spent  impressions  clicks  \\\n",
      "0  2023-01-01  google        search           100         1000      50   \n",
      "1  2023-01-01    meta       display           200         2000     100   \n",
      "2  2023-01-02   email    newsletter            50          500      25   \n",
      "3  2023-01-03  direct        direct             0            0       0   \n",
      "\n",
      "   conversions  revenue  \n",
      "0            5      500  \n",
      "1           10     1000  \n",
      "2            5      250  \n",
      "3            0        0  \n"
     ]
    }
   ],
   "source": [
    "import pandas as pd\n",
    "\n",
    "# Load data\n",
    "customer_data = pd.read_csv('../data/customer_journey.csv')\n",
    "ad_spend_data = pd.read_csv('../data/ad_spend.csv')\n",
    "\n",
    "# Clean and preprocess data\n",
    "customer_data.dropna(inplace=True)\n",
    "ad_spend_data.fillna(0, inplace=True)\n",
    "\n",
    "# Feature engineering\n",
    "customer_data['timestamp'] = pd.to_datetime(customer_data['timestamp'])\n",
    "customer_data['visit_duration'] = customer_data.groupby('customer_id')['timestamp'].diff().fillna(pd.Timedelta(seconds=0))\n",
    "\n",
    "print(\"Preprocessed Customer Data:\")\n",
    "print(customer_data.head())\n",
    "\n",
    "print(\"Preprocessed Ad Spend Data:\")\n",
    "print(ad_spend_data.head())\n"
   ]
  },
  {
   "cell_type": "code",
   "execution_count": null,
   "metadata": {},
   "outputs": [],
   "source": []
  }
 ],
 "metadata": {
  "kernelspec": {
   "display_name": "Python 3 (ipykernel)",
   "language": "python",
   "name": "python3"
  },
  "language_info": {
   "codemirror_mode": {
    "name": "ipython",
    "version": 3
   },
   "file_extension": ".py",
   "mimetype": "text/x-python",
   "name": "python",
   "nbconvert_exporter": "python",
   "pygments_lexer": "ipython3",
   "version": "3.12.4"
  }
 },
 "nbformat": 4,
 "nbformat_minor": 4
}

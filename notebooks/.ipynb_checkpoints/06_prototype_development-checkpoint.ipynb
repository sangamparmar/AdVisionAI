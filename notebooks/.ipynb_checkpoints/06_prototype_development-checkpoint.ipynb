{
 "cells": [
  {
   "cell_type": "code",
   "execution_count": null,
   "metadata": {},
   "outputs": [],
   "source": [
    "import streamlit as st\n",
    "import pandas as pd\n",
    "from sklearn.linear_model import LinearRegression\n",
    "\n",
    "st.title(\"AI-Driven Media Investment Plan\")\n",
    "\n",
    "uploaded_file = st.file_uploader(\"Upload Ad Spend Data\", type=\"csv\")\n",
    "if uploaded_file is not None:\n",
    "    ad_spend_data = pd.read_csv(uploaded_file)\n",
    "    st.write(ad_spend_data.head())\n",
    "    \n",
    "    # Prepare data for model\n",
    "    X = ad_spend_data[['impressions', 'clicks']]\n",
    "    y = ad_spend_data['conversions']\n",
    "    \n",
    "    # Train model\n",
    "    model = LinearRegression()\n",
    "    model.fit(X, y)\n",
    "    \n",
    "    total_budget = st.number_input(\"Enter Total Budget\", value=100000)\n",
    "    channels = ad_spend_data['channel'].unique()\n",
    "    \n",
    "    channel_budgets = {}\n",
    "    for channel in channels:\n",
    "        channel_data = ad_spend_data[ad_spend_data['channel'] == channel]\n",
    "        predicted_conversion = model.predict(channel_data[['impressions', 'clicks']].mean().values.reshape(1, -1))[0]\n",
    "        allocated_budget = max(0.1 * total_budget, predicted_conversion)\n",
    "        channel_budgets[channel] = allocated_budget\n",
    "    \n",
    "    st.write(\"Reallocated Budgets:\")\n",
    "    st.write(channel_budgets)\n"
   ]
  }
 ],
 "metadata": {
  "language_info": {
   "name": "python"
  }
 },
 "nbformat": 4,
 "nbformat_minor": 2
}

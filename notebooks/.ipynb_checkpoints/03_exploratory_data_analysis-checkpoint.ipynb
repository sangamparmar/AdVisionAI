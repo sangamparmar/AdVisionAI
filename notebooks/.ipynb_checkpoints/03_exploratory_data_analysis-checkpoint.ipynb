{
 "cells": [
  {
   "cell_type": "code",
   "execution_count": null,
   "metadata": {},
   "outputs": [],
   "source": [
    "import pandas as pd\n",
    "import matplotlib.pyplot as plt\n",
    "import seaborn as sns\n",
    "\n",
    "# Load data\n",
    "customer_data = pd.read_csv('../data/customer_journey.csv')\n",
    "ad_spend_data = pd.read_csv('../data/ad_spend.csv')\n",
    "\n",
    "# Visualization\n",
    "sns.countplot(x='touchpoint_type', data=customer_data)\n",
    "plt.title('Distribution of Customer Journey Touchpoints')\n",
    "plt.show()\n",
    "\n",
    "sns.barplot(x='channel', y='amount_spent', data=ad_spend_data)\n",
    "plt.title('Ad Spend Distribution by Channel')\n",
    "plt.show()\n"
   ]
  }
 ],
 "metadata": {
  "language_info": {
   "name": "python"
  }
 },
 "nbformat": 4,
 "nbformat_minor": 2
}

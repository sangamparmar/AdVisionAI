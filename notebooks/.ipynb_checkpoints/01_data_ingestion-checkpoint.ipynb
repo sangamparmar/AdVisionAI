{
 "cells": [
  {
   "cell_type": "code",
   "execution_count": null,
   "metadata": {},
   "outputs": [],
   "source": [
    "import pandas as pd\n",
    "\n",
    "# Load customer journey data\n",
    "customer_data = pd.read_csv('../data/customer_journey.csv')\n",
    "print(\"Customer Journey Data:\")\n",
    "print(customer_data.head())\n",
    "\n",
    "# Load ad spend data\n",
    "ad_spend_data = pd.read_csv('../data/ad_spend.csv')\n",
    "print(\"Ad Spend Data:\")\n",
    "print(ad_spend_data.head())\n"
   ]
  }
 ],
 "metadata": {
  "language_info": {
   "name": "python"
  }
 },
 "nbformat": 4,
 "nbformat_minor": 2
}
